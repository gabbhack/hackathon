{
 "cells": [
  {
   "cell_type": "code",
   "execution_count": 1,
   "metadata": {
    "ExecuteTime": {
     "end_time": "2023-06-24T05:01:04.688343200Z",
     "start_time": "2023-06-24T05:01:04.679044600Z"
    },
    "collapsed": false
   },
   "outputs": [],
   "source": [
    "import nltk\n",
    "import re\n",
    "\n",
    "from tqdm import tqdm\n",
    "import pandas as pd\n",
    "import numpy as np\n",
    "import matplotlib.pyplot as plt\n",
    "\n",
    "from nltk.corpus import stopwords\n",
    "from sklearn.metrics import mean_absolute_error\n",
    "import os"
   ]
  },
  {
   "cell_type": "code",
   "execution_count": 16,
   "metadata": {},
   "outputs": [],
   "source": [
    "def display_df(df):\n",
    "    pd.set_option('display.max_rows', None)\n",
    "    display(df)\n",
    "    pd.set_option('display.max_rows', 10)"
   ]
  },
  {
   "cell_type": "code",
   "execution_count": 17,
   "metadata": {
    "ExecuteTime": {
     "end_time": "2023-06-24T05:01:07.614515500Z",
     "start_time": "2023-06-24T05:01:05.075840800Z"
    },
    "collapsed": true
   },
   "outputs": [
    {
     "data": {
      "text/html": [
       "<div>\n",
       "<style scoped>\n",
       "    .dataframe tbody tr th:only-of-type {\n",
       "        vertical-align: middle;\n",
       "    }\n",
       "\n",
       "    .dataframe tbody tr th {\n",
       "        vertical-align: top;\n",
       "    }\n",
       "\n",
       "    .dataframe thead th {\n",
       "        text-align: right;\n",
       "    }\n",
       "</style>\n",
       "<table border=\"1\" class=\"dataframe\">\n",
       "  <thead>\n",
       "    <tr style=\"text-align: right;\">\n",
       "      <th></th>\n",
       "      <th>obj_prg</th>\n",
       "      <th>obj_subprg</th>\n",
       "      <th>obj_key</th>\n",
       "      <th>task_key</th>\n",
       "      <th>task_name</th>\n",
       "      <th>completion_percentage</th>\n",
       "      <th>date_start_task</th>\n",
       "      <th>date_end_task</th>\n",
       "      <th>date_start_bpo</th>\n",
       "      <th>date_end_bpo</th>\n",
       "      <th>examination_status</th>\n",
       "      <th>examination</th>\n",
       "      <th>date_report</th>\n",
       "    </tr>\n",
       "  </thead>\n",
       "  <tbody>\n",
       "    <tr>\n",
       "      <th>0</th>\n",
       "      <td>Образование</td>\n",
       "      <td>Общеобразовательные учреждения</td>\n",
       "      <td>022-0527</td>\n",
       "      <td>1</td>\n",
       "      <td>Предпроектные работы</td>\n",
       "      <td>0.0</td>\n",
       "      <td>2022-01-14</td>\n",
       "      <td>2023-03-30</td>\n",
       "      <td>NaN</td>\n",
       "      <td>NaN</td>\n",
       "      <td>NaN</td>\n",
       "      <td>NaN</td>\n",
       "      <td>2023.01.17</td>\n",
       "    </tr>\n",
       "    <tr>\n",
       "      <th>1</th>\n",
       "      <td>Образование</td>\n",
       "      <td>Общеобразовательные учреждения</td>\n",
       "      <td>022-0354</td>\n",
       "      <td>1</td>\n",
       "      <td>Предпроектные работы</td>\n",
       "      <td>0.0</td>\n",
       "      <td>2022-12-01</td>\n",
       "      <td>2023-07-27</td>\n",
       "      <td>NaN</td>\n",
       "      <td>NaN</td>\n",
       "      <td>NaN</td>\n",
       "      <td>NaN</td>\n",
       "      <td>2023.01.17</td>\n",
       "    </tr>\n",
       "    <tr>\n",
       "      <th>2</th>\n",
       "      <td>Образование</td>\n",
       "      <td>Дошкольные учреждения</td>\n",
       "      <td>022-0513</td>\n",
       "      <td>1</td>\n",
       "      <td>Предпроектные работы</td>\n",
       "      <td>0.0</td>\n",
       "      <td>2023-01-23</td>\n",
       "      <td>2023-09-29</td>\n",
       "      <td>NaN</td>\n",
       "      <td>NaN</td>\n",
       "      <td>NaN</td>\n",
       "      <td>NaN</td>\n",
       "      <td>2023.01.17</td>\n",
       "    </tr>\n",
       "    <tr>\n",
       "      <th>3</th>\n",
       "      <td>Образование</td>\n",
       "      <td>Дошкольные учреждения</td>\n",
       "      <td>020-0684</td>\n",
       "      <td>1</td>\n",
       "      <td>Предпроектные работы</td>\n",
       "      <td>0.0</td>\n",
       "      <td>2020-11-03</td>\n",
       "      <td>2022-02-01</td>\n",
       "      <td>2020-11-03</td>\n",
       "      <td>2021-12-29</td>\n",
       "      <td>NaN</td>\n",
       "      <td>NaN</td>\n",
       "      <td>2023.01.17</td>\n",
       "    </tr>\n",
       "    <tr>\n",
       "      <th>4</th>\n",
       "      <td>Образование</td>\n",
       "      <td>Дошкольные учреждения</td>\n",
       "      <td>019-0589</td>\n",
       "      <td>1</td>\n",
       "      <td>Предпроектные работы</td>\n",
       "      <td>0.0</td>\n",
       "      <td>2020-11-03</td>\n",
       "      <td>2022-05-16</td>\n",
       "      <td>2020-11-03</td>\n",
       "      <td>2021-12-29</td>\n",
       "      <td>NaN</td>\n",
       "      <td>NaN</td>\n",
       "      <td>2023.01.17</td>\n",
       "    </tr>\n",
       "  </tbody>\n",
       "</table>\n",
       "</div>"
      ],
      "text/plain": [
       "       obj_prg                      obj_subprg   obj_key task_key   \n",
       "0  Образование  Общеобразовательные учреждения  022-0527        1  \\\n",
       "1  Образование  Общеобразовательные учреждения  022-0354        1   \n",
       "2  Образование           Дошкольные учреждения  022-0513        1   \n",
       "3  Образование           Дошкольные учреждения  020-0684        1   \n",
       "4  Образование           Дошкольные учреждения  019-0589        1   \n",
       "\n",
       "              task_name  completion_percentage date_start_task date_end_task   \n",
       "0  Предпроектные работы                    0.0      2022-01-14    2023-03-30  \\\n",
       "1  Предпроектные работы                    0.0      2022-12-01    2023-07-27   \n",
       "2  Предпроектные работы                    0.0      2023-01-23    2023-09-29   \n",
       "3  Предпроектные работы                    0.0      2020-11-03    2022-02-01   \n",
       "4  Предпроектные работы                    0.0      2020-11-03    2022-05-16   \n",
       "\n",
       "  date_start_bpo date_end_bpo  examination_status examination date_report  \n",
       "0            NaN          NaN                 NaN         NaN  2023.01.17  \n",
       "1            NaN          NaN                 NaN         NaN  2023.01.17  \n",
       "2            NaN          NaN                 NaN         NaN  2023.01.17  \n",
       "3     2020-11-03   2021-12-29                 NaN         NaN  2023.01.17  \n",
       "4     2020-11-03   2021-12-29                 NaN         NaN  2023.01.17  "
      ]
     },
     "execution_count": 17,
     "metadata": {},
     "output_type": "execute_result"
    }
   ],
   "source": [
    "df_attr = pd.read_csv('train_dataset_Дипстрой//attr.csv')\n",
    "df_attr['date_report'] = pd.to_datetime(df_attr['date_report'])\n",
    "df_attr = df_attr.rename(\n",
    "    columns={\n",
    "        'состояние площадки': 'square_status',\n",
    "        'Площадь': 'square',\n",
    "        'Генпроектировщик': 'gen_proect',\n",
    "        'Генподрядчик': 'gen_podr',\n",
    "        'Кол-во рабочих': 'n_workers',\n",
    "    }\n",
    ")\n",
    "\n",
    "df_ksg = pd.read_csv(\n",
    "    'train_dataset_Дипстрой//dataset_hackaton_ksg__v2__23062023__1710_GMT3.csv',\n",
    "    encoding = \"utf-8\",\n",
    "    sep=';',\n",
    "    dtype = {'Экспертиза':'object'}\n",
    ")\n",
    "\n",
    "df_ksg = df_ksg.drop(['Unnamed: 0', '№ п/п'], axis=1)\n",
    "df_ksg = df_ksg.rename(\n",
    "    columns={\n",
    "        'Кодзадачи': 'task_key',\n",
    "        'НазваниеЗадачи': 'task_name',\n",
    "        'ПроцентЗавершенияЗадачи': 'completion_percentage',\n",
    "        'ДатаНачалаЗадачи': 'date_start_task',\n",
    "        'ДатаОкончанияЗадачи': 'date_end_task',\n",
    "        'ДатаначалаБП0': 'date_start_bpo',\n",
    "        'ДатаокончанияБП0': 'date_end_bpo',\n",
    "        'Статуспоэкспертизе': 'examination_status',\n",
    "        'Экспертиза': 'examination'\n",
    "    }\n",
    ")\n",
    "\n",
    "df_ksg.head()"
   ]
  },
  {
   "attachments": {},
   "cell_type": "markdown",
   "metadata": {
    "collapsed": false
   },
   "source": [
    "## Обработка пропусков"
   ]
  },
  {
   "cell_type": "code",
   "execution_count": 18,
   "metadata": {
    "ExecuteTime": {
     "end_time": "2023-06-24T05:01:11.398015700Z",
     "start_time": "2023-06-24T05:01:07.618593400Z"
    },
    "collapsed": false
   },
   "outputs": [
    {
     "name": "stdout",
     "output_type": "stream",
     "text": [
      "<class 'pandas.core.frame.DataFrame'>\n",
      "Index: 1059799 entries, 8 to 366668\n",
      "Data columns (total 13 columns):\n",
      " #   Column                 Non-Null Count    Dtype         \n",
      "---  ------                 --------------    -----         \n",
      " 0   obj_prg                1059799 non-null  object        \n",
      " 1   obj_subprg             1059799 non-null  object        \n",
      " 2   obj_key                1059799 non-null  object        \n",
      " 3   task_key               1059799 non-null  object        \n",
      " 4   task_name              1059799 non-null  object        \n",
      " 5   completion_percentage  1059799 non-null  float64       \n",
      " 6   date_start_task        1059799 non-null  datetime64[ns]\n",
      " 7   date_end_task          1059799 non-null  datetime64[ns]\n",
      " 8   date_start_bpo         855422 non-null   datetime64[ns]\n",
      " 9   date_end_bpo           856073 non-null   datetime64[ns]\n",
      " 10  examination_status     1059799 non-null  float64       \n",
      " 11  examination            1059799 non-null  object        \n",
      " 12  date_report            1059799 non-null  datetime64[ns]\n",
      "dtypes: datetime64[ns](5), float64(2), object(6)\n",
      "memory usage: 113.2+ MB\n"
     ]
    }
   ],
   "source": [
    "# заполняем пропуски дат в договоре\n",
    "df_ksg = df_ksg.sort_values(['obj_key', 'task_key', 'date_end_bpo'])\n",
    "df_ksg = df_ksg.fillna({'date_end_bpo': df_ksg.groupby(['obj_key','task_key'])['date_end_bpo'].transform('first')})\n",
    "df_ksg = df_ksg.sort_values(['obj_key', 'task_key', 'date_end_bpo'])\n",
    "df_ksg = df_ksg.fillna({'date_start_bpo': df_ksg.groupby(['obj_key','task_key'])['date_start_bpo'].transform('first')})\n",
    "\n",
    "# заполнем пропуски в экспертизах\n",
    "df_ksg['examination_status'] = df_ksg['examination_status'].fillna(0.0)\n",
    "df_ksg['examination'] = df_ksg['examination'].fillna('0')\n",
    "\n",
    "#дропаем пропуски, где не дано названия задачи и кода\n",
    "df_ksg = df_ksg.dropna(subset='task_name')\n",
    "df_ksg = df_ksg.dropna(subset='task_key')\n",
    "\n",
    "df_ksg['date_start_task'] = pd.to_datetime(df_ksg['date_start_task'])\n",
    "df_ksg['date_end_task'] = pd.to_datetime(df_ksg['date_end_task'])\n",
    "df_ksg['date_start_bpo'] = pd.to_datetime(df_ksg['date_start_bpo'])\n",
    "df_ksg['date_end_bpo'] = pd.to_datetime(df_ksg['date_end_bpo'])\n",
    "df_ksg['date_report'] = pd.to_datetime(df_ksg['date_report'])\n",
    "df_ksg.info()\n"
   ]
  },
  {
   "attachments": {},
   "cell_type": "markdown",
   "metadata": {
    "collapsed": false
   },
   "source": [
    "## Исправление названий задач"
   ]
  },
  {
   "cell_type": "code",
   "execution_count": 19,
   "metadata": {
    "ExecuteTime": {
     "end_time": "2023-06-24T05:01:20.528528300Z",
     "start_time": "2023-06-24T05:01:11.400024500Z"
    },
    "collapsed": false
   },
   "outputs": [
    {
     "name": "stderr",
     "output_type": "stream",
     "text": [
      "[nltk_data] Downloading package stopwords to\n",
      "[nltk_data]     C:\\Users\\ykolt\\AppData\\Roaming\\nltk_data...\n",
      "[nltk_data]   Package stopwords is already up-to-date!\n"
     ]
    },
    {
     "name": "stdout",
     "output_type": "stream",
     "text": [
      "['и', 'в', 'во', 'не', 'что']\n"
     ]
    }
   ],
   "source": [
    "nltk.download('stopwords')\n",
    "stop_words = list(stopwords.words('russian'))\n",
    "print(stop_words[:5])\n",
    "df_ksg['task_name'] = df_ksg['task_name'].apply(lambda x : ' '.join(re.sub(r'[^а-яА-ЯёЁ]', ' ', x.lower()).split()))\n",
    "df_ksg['task_name'] = df_ksg['task_name'].apply(lambda x: ' '.join([word for word in x.split() if word not in stop_words]))\n",
    "df_ksg['task_name'] = df_ksg['task_key']+'_'+df_ksg['task_name']\n",
    "\n",
    "\n"
   ]
  },
  {
   "attachments": {},
   "cell_type": "markdown",
   "metadata": {
    "collapsed": false
   },
   "source": [
    "## Сбор таргета"
   ]
  },
  {
   "cell_type": "code",
   "execution_count": 20,
   "metadata": {
    "ExecuteTime": {
     "end_time": "2023-06-24T05:01:40.126953100Z",
     "start_time": "2023-06-24T05:01:20.540872600Z"
    },
    "collapsed": false
   },
   "outputs": [],
   "source": [
    "#сбор таргета\n",
    "df_ksg['target'] = df_ksg.groupby(['obj_key', 'task_name'])['date_end_task'].transform(lambda x: x.shift(-1)-x)\n",
    "df_ksg['target'] = df_ksg['target'].dt.days\n",
    "df_ksg = df_ksg.dropna(subset='target')\n",
    "df_ksg['target'] = df_ksg['target'].astype(int)"
   ]
  },
  {
   "cell_type": "code",
   "execution_count": 21,
   "metadata": {
    "ExecuteTime": {
     "end_time": "2023-06-24T05:01:41.874569800Z",
     "start_time": "2023-06-24T05:01:41.694172900Z"
    },
    "collapsed": false
   },
   "outputs": [
    {
     "data": {
      "text/plain": [
       "<Axes: >"
      ]
     },
     "execution_count": 21,
     "metadata": {},
     "output_type": "execute_result"
    },
    {
     "data": {
      "image/png": "[encoded data removed]",
      "text/plain": [
       "<Figure size 640x480 with 1 Axes>"
      ]
     },
     "metadata": {},
     "output_type": "display_data"
    }
   ],
   "source": [
    "df_ksg['target'].hist()"
   ]
  },
  {
   "attachments": {},
   "cell_type": "markdown",
   "metadata": {
    "collapsed": false
   },
   "source": [
    "## Обработка аномалий"
   ]
  },
  {
   "cell_type": "code",
   "execution_count": 22,
   "metadata": {},
   "outputs": [
    {
     "data": {
      "text/plain": [
       "(998280, 14)"
      ]
     },
     "execution_count": 22,
     "metadata": {},
     "output_type": "execute_result"
    }
   ],
   "source": [
    "df_ksg.shape"
   ]
  },
  {
   "cell_type": "code",
   "execution_count": null,
   "metadata": {},
   "outputs": [],
   "source": []
  },
  {
   "cell_type": "code",
   "execution_count": 23,
   "metadata": {
    "ExecuteTime": {
     "end_time": "2023-06-24T04:58:59.525892700Z",
     "start_time": "2023-06-24T04:58:47.290058300Z"
    },
    "collapsed": false
   },
   "outputs": [
    {
     "data": {
      "text/plain": [
       "(772916, 14)"
      ]
     },
     "execution_count": 23,
     "metadata": {},
     "output_type": "execute_result"
    }
   ],
   "source": [
    "q001 = df_ksg['target'].quantile(0.01)\n",
    "q099 = df_ksg['target'].quantile(0.99)\n",
    "\n",
    "anomaly_df = (\n",
    "    df_ksg\n",
    "    .loc[(df_ksg['target'] > q099)|(df_ksg['target'] < q001)]\n",
    "    .groupby(['obj_key', 'task_name'], as_index=False)\n",
    "    .count()\n",
    ")\n",
    "\n",
    "anomaly_df = anomaly_df[['obj_key', 'task_name']]\n",
    "df_ksg_new = df_ksg.copy()\n",
    "\n",
    "df_ksg_new = pd.merge(df_ksg_new, anomaly_df, on=['obj_key', 'task_name'], how='outer', indicator=True)   \n",
    "\n",
    "df_ksg_new = df_ksg_new.query(\"_merge == 'left_only'\").drop(columns='_merge')\n",
    "df_ksg_new.shape"
   ]
  },
  {
   "cell_type": "code",
   "execution_count": 24,
   "metadata": {
    "ExecuteTime": {
     "end_time": "2023-06-24T04:59:35.759811700Z",
     "start_time": "2023-06-24T04:59:35.605654400Z"
    },
    "collapsed": false
   },
   "outputs": [
    {
     "data": {
      "text/plain": [
       "(0.0, 50000.0)"
      ]
     },
     "execution_count": 24,
     "metadata": {},
     "output_type": "execute_result"
    },
    {
     "data": {
      "image/png": "[encoded data removed]",
      "text/plain": [
       "<Figure size 640x480 with 1 Axes>"
      ]
     },
     "metadata": {},
     "output_type": "display_data"
    }
   ],
   "source": [
    "df_ksg_new['target'].hist()\n",
    "plt.ylim(0,50000)"
   ]
  },
  {
   "cell_type": "code",
   "execution_count": 25,
   "metadata": {},
   "outputs": [
    {
     "data": {
      "text/html": [
       "<div>\n",
       "<style scoped>\n",
       "    .dataframe tbody tr th:only-of-type {\n",
       "        vertical-align: middle;\n",
       "    }\n",
       "\n",
       "    .dataframe tbody tr th {\n",
       "        vertical-align: top;\n",
       "    }\n",
       "\n",
       "    .dataframe thead th {\n",
       "        text-align: right;\n",
       "    }\n",
       "</style>\n",
       "<table border=\"1\" class=\"dataframe\">\n",
       "  <thead>\n",
       "    <tr style=\"text-align: right;\">\n",
       "      <th></th>\n",
       "      <th>obj_prg</th>\n",
       "      <th>obj_subprg</th>\n",
       "      <th>obj_key</th>\n",
       "      <th>task_key</th>\n",
       "      <th>task_name</th>\n",
       "      <th>completion_percentage</th>\n",
       "      <th>date_start_task</th>\n",
       "      <th>date_end_task</th>\n",
       "      <th>date_start_bpo</th>\n",
       "      <th>date_end_bpo</th>\n",
       "      <th>examination_status</th>\n",
       "      <th>examination</th>\n",
       "      <th>date_report</th>\n",
       "      <th>target</th>\n",
       "    </tr>\n",
       "  </thead>\n",
       "  <tbody>\n",
       "    <tr>\n",
       "      <th>0</th>\n",
       "      <td>Образование</td>\n",
       "      <td>Дошкольные учреждения</td>\n",
       "      <td>017-0520</td>\n",
       "      <td>1</td>\n",
       "      <td>1_предпроектные работы</td>\n",
       "      <td>100.0</td>\n",
       "      <td>2018-11-01</td>\n",
       "      <td>2022-02-15</td>\n",
       "      <td>2018-11-01</td>\n",
       "      <td>2022-02-15</td>\n",
       "      <td>0.0</td>\n",
       "      <td>0</td>\n",
       "      <td>2023-01-17</td>\n",
       "      <td>0</td>\n",
       "    </tr>\n",
       "    <tr>\n",
       "      <th>1</th>\n",
       "      <td>Образование</td>\n",
       "      <td>Дошкольные учреждения</td>\n",
       "      <td>017-0520</td>\n",
       "      <td>1</td>\n",
       "      <td>1_предпроектные работы</td>\n",
       "      <td>100.0</td>\n",
       "      <td>2018-11-01</td>\n",
       "      <td>2022-02-15</td>\n",
       "      <td>2018-11-01</td>\n",
       "      <td>2022-02-15</td>\n",
       "      <td>0.0</td>\n",
       "      <td>0</td>\n",
       "      <td>2023-01-23</td>\n",
       "      <td>0</td>\n",
       "    </tr>\n",
       "    <tr>\n",
       "      <th>2</th>\n",
       "      <td>Образование</td>\n",
       "      <td>Дошкольные учреждения</td>\n",
       "      <td>017-0520</td>\n",
       "      <td>1</td>\n",
       "      <td>1_предпроектные работы</td>\n",
       "      <td>100.0</td>\n",
       "      <td>2018-11-01</td>\n",
       "      <td>2022-02-15</td>\n",
       "      <td>2018-11-01</td>\n",
       "      <td>2022-02-15</td>\n",
       "      <td>0.0</td>\n",
       "      <td>0</td>\n",
       "      <td>2023-02-06</td>\n",
       "      <td>0</td>\n",
       "    </tr>\n",
       "    <tr>\n",
       "      <th>3</th>\n",
       "      <td>Образование</td>\n",
       "      <td>Дошкольные учреждения</td>\n",
       "      <td>017-0520</td>\n",
       "      <td>1</td>\n",
       "      <td>1_предпроектные работы</td>\n",
       "      <td>100.0</td>\n",
       "      <td>2018-11-01</td>\n",
       "      <td>2022-02-15</td>\n",
       "      <td>2018-11-01</td>\n",
       "      <td>2022-02-15</td>\n",
       "      <td>0.0</td>\n",
       "      <td>0</td>\n",
       "      <td>2023-02-13</td>\n",
       "      <td>0</td>\n",
       "    </tr>\n",
       "    <tr>\n",
       "      <th>4</th>\n",
       "      <td>Образование</td>\n",
       "      <td>Дошкольные учреждения</td>\n",
       "      <td>017-0520</td>\n",
       "      <td>1</td>\n",
       "      <td>1_предпроектные работы</td>\n",
       "      <td>100.0</td>\n",
       "      <td>2018-11-01</td>\n",
       "      <td>2022-02-15</td>\n",
       "      <td>2018-11-01</td>\n",
       "      <td>2022-02-15</td>\n",
       "      <td>0.0</td>\n",
       "      <td>0</td>\n",
       "      <td>2023-02-20</td>\n",
       "      <td>0</td>\n",
       "    </tr>\n",
       "  </tbody>\n",
       "</table>\n",
       "</div>"
      ],
      "text/plain": [
       "       obj_prg             obj_subprg   obj_key task_key   \n",
       "0  Образование  Дошкольные учреждения  017-0520        1  \\\n",
       "1  Образование  Дошкольные учреждения  017-0520        1   \n",
       "2  Образование  Дошкольные учреждения  017-0520        1   \n",
       "3  Образование  Дошкольные учреждения  017-0520        1   \n",
       "4  Образование  Дошкольные учреждения  017-0520        1   \n",
       "\n",
       "                task_name  completion_percentage date_start_task   \n",
       "0  1_предпроектные работы                  100.0      2018-11-01  \\\n",
       "1  1_предпроектные работы                  100.0      2018-11-01   \n",
       "2  1_предпроектные работы                  100.0      2018-11-01   \n",
       "3  1_предпроектные работы                  100.0      2018-11-01   \n",
       "4  1_предпроектные работы                  100.0      2018-11-01   \n",
       "\n",
       "  date_end_task date_start_bpo date_end_bpo  examination_status examination   \n",
       "0    2022-02-15     2018-11-01   2022-02-15                 0.0           0  \\\n",
       "1    2022-02-15     2018-11-01   2022-02-15                 0.0           0   \n",
       "2    2022-02-15     2018-11-01   2022-02-15                 0.0           0   \n",
       "3    2022-02-15     2018-11-01   2022-02-15                 0.0           0   \n",
       "4    2022-02-15     2018-11-01   2022-02-15                 0.0           0   \n",
       "\n",
       "  date_report  target  \n",
       "0  2023-01-17       0  \n",
       "1  2023-01-23       0  \n",
       "2  2023-02-06       0  \n",
       "3  2023-02-13       0  \n",
       "4  2023-02-20       0  "
      ]
     },
     "execution_count": 25,
     "metadata": {},
     "output_type": "execute_result"
    }
   ],
   "source": [
    "#df_ksg_new[(df_ksg_new['obj_key']=='017-0520') & (df_ksg_new['task_key']=='6')].sort_values(by='date_report')\n",
    "df_ksg_new.head()"
   ]
  },
  {
   "attachments": {},
   "cell_type": "markdown",
   "metadata": {},
   "source": [
    "## Инженерия фич"
   ]
  },
  {
   "cell_type": "code",
   "execution_count": 26,
   "metadata": {},
   "outputs": [],
   "source": [
    "# месяц и сезон для каждой даты\n",
    "dates = [col for col in df_ksg_new.columns if 'date' in col]\n",
    "for date_name in dates:\n",
    "    df_ksg_new.loc[:,f'{date_name}_month'] = df_ksg_new[date_name].dt.month\n",
    "    df_ksg_new.loc[:,f'{date_name}_season'] =  (df_ksg_new[f'{date_name}_month'] % 12 + 3) // 3\n",
    "\n",
    "# разница дат\n",
    "date_pairs = {\n",
    "    'date_end_task':'date_start_task',\n",
    "    'date_end_bpo':'date_start_bpo',\n",
    "    'date_start_task':'date_start_bpo',\n",
    "    'date_end_task':'date_end_bpo',\n",
    "}\n",
    "for date_name1, date_name2 in date_pairs.items():\n",
    "    df_ksg_new.loc[:,f'diff_{date_name1[5:]}_{date_name2[5:]}'] = (df_ksg_new[date_name1] - df_ksg_new[date_name2]).dt.days.astype(float)\n",
    "\n",
    "df_ksg_new = df_ksg_new.merge(df_attr, how='left', on=['obj_key', 'date_report'])"
   ]
  },
  {
   "cell_type": "code",
   "execution_count": 27,
   "metadata": {},
   "outputs": [
    {
     "name": "stdout",
     "output_type": "stream",
     "text": [
      "<class 'pandas.core.frame.DataFrame'>\n",
      "RangeIndex: 772916 entries, 0 to 772915\n",
      "Data columns (total 32 columns):\n",
      " #   Column                     Non-Null Count   Dtype         \n",
      "---  ------                     --------------   -----         \n",
      " 0   obj_prg                    772916 non-null  object        \n",
      " 1   obj_subprg                 772916 non-null  object        \n",
      " 2   obj_key                    772916 non-null  object        \n",
      " 3   task_key                   772916 non-null  object        \n",
      " 4   task_name                  772916 non-null  object        \n",
      " 5   completion_percentage      772916 non-null  float64       \n",
      " 6   date_start_task            772916 non-null  datetime64[ns]\n",
      " 7   date_end_task              772916 non-null  datetime64[ns]\n",
      " 8   date_start_bpo             630246 non-null  datetime64[ns]\n",
      " 9   date_end_bpo               630807 non-null  datetime64[ns]\n",
      " 10  examination_status         772916 non-null  float64       \n",
      " 11  examination                772916 non-null  object        \n",
      " 12  date_report                772916 non-null  datetime64[ns]\n",
      " 13  target                     772916 non-null  int32         \n",
      " 14  date_start_task_month      772916 non-null  int32         \n",
      " 15  date_start_task_season     772916 non-null  int32         \n",
      " 16  date_end_task_month        772916 non-null  int32         \n",
      " 17  date_end_task_season       772916 non-null  int32         \n",
      " 18  date_start_bpo_month       630246 non-null  float64       \n",
      " 19  date_start_bpo_season      630246 non-null  float64       \n",
      " 20  date_end_bpo_month         630807 non-null  float64       \n",
      " 21  date_end_bpo_season        630807 non-null  float64       \n",
      " 22  date_report_month          772916 non-null  int32         \n",
      " 23  date_report_season         772916 non-null  int32         \n",
      " 24  diff_end_task_end_bpo      630807 non-null  float64       \n",
      " 25  diff_end_bpo_start_bpo     630246 non-null  float64       \n",
      " 26  diff_start_task_start_bpo  630246 non-null  float64       \n",
      " 27  square_status              270359 non-null  object        \n",
      " 28  square                     270149 non-null  float64       \n",
      " 29  gen_proect                 270359 non-null  float64       \n",
      " 30  gen_podr                   270359 non-null  float64       \n",
      " 31  n_workers                  160567 non-null  float64       \n",
      "dtypes: datetime64[ns](5), float64(13), int32(7), object(7)\n",
      "memory usage: 168.1+ MB\n"
     ]
    }
   ],
   "source": [
    "df_ksg_new.info()"
   ]
  },
  {
   "attachments": {},
   "cell_type": "markdown",
   "metadata": {},
   "source": [
    "### Подрядчик"
   ]
  },
  {
   "cell_type": "code",
   "execution_count": 28,
   "metadata": {},
   "outputs": [],
   "source": [
    "def preproc(df, info):\n",
    "    col = info.columns[0]\n",
    "    print(col)\n",
    "    if col =='target':\n",
    "        info = info.drop(columns=['target'])\n",
    "        print(len(df['date_report'].unique()))\n",
    "        for date_rep in df['date_report'].unique():\n",
    "            info_val = df.loc[(df['date_report'] < date_rep), 'target'].describe()\n",
    "            info_list = [\n",
    "                date_rep,\n",
    "                info_val['count'],\n",
    "                info_val['mean'],\n",
    "                info_val['std']\n",
    "            ]\n",
    "            info.loc[len(info)] = info_list\n",
    "        return info\n",
    "    else:\n",
    "        for val in df[col].dropna().unique():\n",
    "            for date_rep in df['date_report'].unique():\n",
    "                info_val = df.loc[(df[col]==val) & (df['date_report'] < date_rep), 'target'].describe()\n",
    "                info_list = [\n",
    "                    val,\n",
    "                    date_rep,\n",
    "                    info_val['count'],\n",
    "                    info_val['mean'],\n",
    "                    info_val['std']\n",
    "                ]\n",
    "                info.loc[len(info)] = info_list\n",
    "        return info\n",
    "    "
   ]
  },
  {
   "cell_type": "code",
   "execution_count": 29,
   "metadata": {},
   "outputs": [
    {
     "name": "stdout",
     "output_type": "stream",
     "text": [
      "target\n",
      "19\n"
     ]
    },
    {
     "data": {
      "text/html": [
       "<div>\n",
       "<style scoped>\n",
       "    .dataframe tbody tr th:only-of-type {\n",
       "        vertical-align: middle;\n",
       "    }\n",
       "\n",
       "    .dataframe tbody tr th {\n",
       "        vertical-align: top;\n",
       "    }\n",
       "\n",
       "    .dataframe thead th {\n",
       "        text-align: right;\n",
       "    }\n",
       "</style>\n",
       "<table border=\"1\" class=\"dataframe\">\n",
       "  <thead>\n",
       "    <tr style=\"text-align: right;\">\n",
       "      <th></th>\n",
       "      <th>date_report</th>\n",
       "      <th>gen_target_count</th>\n",
       "      <th>gen_target_mean</th>\n",
       "      <th>gen_target_std</th>\n",
       "    </tr>\n",
       "  </thead>\n",
       "  <tbody>\n",
       "    <tr>\n",
       "      <th>0</th>\n",
       "      <td>2023-01-17</td>\n",
       "      <td>0.0</td>\n",
       "      <td>NaN</td>\n",
       "      <td>NaN</td>\n",
       "    </tr>\n",
       "    <tr>\n",
       "      <th>1</th>\n",
       "      <td>2023-01-23</td>\n",
       "      <td>38261.0</td>\n",
       "      <td>1.013173</td>\n",
       "      <td>6.872876</td>\n",
       "    </tr>\n",
       "    <tr>\n",
       "      <th>2</th>\n",
       "      <td>2023-02-06</td>\n",
       "      <td>75624.0</td>\n",
       "      <td>1.406471</td>\n",
       "      <td>7.823444</td>\n",
       "    </tr>\n",
       "    <tr>\n",
       "      <th>3</th>\n",
       "      <td>2023-02-13</td>\n",
       "      <td>114753.0</td>\n",
       "      <td>1.159926</td>\n",
       "      <td>6.847040</td>\n",
       "    </tr>\n",
       "    <tr>\n",
       "      <th>4</th>\n",
       "      <td>2023-02-20</td>\n",
       "      <td>156344.0</td>\n",
       "      <td>1.311070</td>\n",
       "      <td>7.715329</td>\n",
       "    </tr>\n",
       "  </tbody>\n",
       "</table>\n",
       "</div>"
      ],
      "text/plain": [
       "  date_report  gen_target_count  gen_target_mean  gen_target_std\n",
       "0  2023-01-17               0.0              NaN             NaN\n",
       "1  2023-01-23           38261.0         1.013173        6.872876\n",
       "2  2023-02-06           75624.0         1.406471        7.823444\n",
       "3  2023-02-13          114753.0         1.159926        6.847040\n",
       "4  2023-02-20          156344.0         1.311070        7.715329"
      ]
     },
     "metadata": {},
     "output_type": "display_data"
    },
    {
     "name": "stdout",
     "output_type": "stream",
     "text": [
      "<class 'pandas.core.frame.DataFrame'>\n",
      "Index: 19 entries, 0 to 18\n",
      "Data columns (total 4 columns):\n",
      " #   Column            Non-Null Count  Dtype         \n",
      "---  ------            --------------  -----         \n",
      " 0   date_report       19 non-null     datetime64[ns]\n",
      " 1   gen_target_count  19 non-null     float64       \n",
      " 2   gen_target_mean   18 non-null     float64       \n",
      " 3   gen_target_std    18 non-null     float64       \n",
      "dtypes: datetime64[ns](1), float64(3)\n",
      "memory usage: 760.0 bytes\n"
     ]
    },
    {
     "data": {
      "text/plain": [
       "None"
      ]
     },
     "metadata": {},
     "output_type": "display_data"
    }
   ],
   "source": [
    "gen_target_info = pd.DataFrame(\n",
    "    columns=[\n",
    "        'target',\n",
    "        'date_report',\n",
    "        'gen_target_count',\n",
    "        'gen_target_mean',\n",
    "        'gen_target_std'\n",
    "    ]\n",
    ")\n",
    "gen_target_info = preproc(df_ksg_new, gen_target_info)\n",
    "display(gen_target_info.head())\n",
    "display(gen_target_info.info())"
   ]
  },
  {
   "cell_type": "code",
   "execution_count": 30,
   "metadata": {},
   "outputs": [
    {
     "name": "stdout",
     "output_type": "stream",
     "text": [
      "gen_podr\n"
     ]
    },
    {
     "data": {
      "text/html": [
       "<div>\n",
       "<style scoped>\n",
       "    .dataframe tbody tr th:only-of-type {\n",
       "        vertical-align: middle;\n",
       "    }\n",
       "\n",
       "    .dataframe tbody tr th {\n",
       "        vertical-align: top;\n",
       "    }\n",
       "\n",
       "    .dataframe thead th {\n",
       "        text-align: right;\n",
       "    }\n",
       "</style>\n",
       "<table border=\"1\" class=\"dataframe\">\n",
       "  <thead>\n",
       "    <tr style=\"text-align: right;\">\n",
       "      <th></th>\n",
       "      <th>gen_podr</th>\n",
       "      <th>date_report</th>\n",
       "      <th>podr_target_count</th>\n",
       "      <th>podr_target_mean</th>\n",
       "      <th>podr_target_std</th>\n",
       "    </tr>\n",
       "  </thead>\n",
       "  <tbody>\n",
       "    <tr>\n",
       "      <th>0</th>\n",
       "      <td>5.0</td>\n",
       "      <td>2023-01-17</td>\n",
       "      <td>0.0</td>\n",
       "      <td>NaN</td>\n",
       "      <td>NaN</td>\n",
       "    </tr>\n",
       "    <tr>\n",
       "      <th>1</th>\n",
       "      <td>5.0</td>\n",
       "      <td>2023-01-23</td>\n",
       "      <td>0.0</td>\n",
       "      <td>NaN</td>\n",
       "      <td>NaN</td>\n",
       "    </tr>\n",
       "    <tr>\n",
       "      <th>2</th>\n",
       "      <td>5.0</td>\n",
       "      <td>2023-02-06</td>\n",
       "      <td>0.0</td>\n",
       "      <td>NaN</td>\n",
       "      <td>NaN</td>\n",
       "    </tr>\n",
       "    <tr>\n",
       "      <th>3</th>\n",
       "      <td>5.0</td>\n",
       "      <td>2023-02-13</td>\n",
       "      <td>0.0</td>\n",
       "      <td>NaN</td>\n",
       "      <td>NaN</td>\n",
       "    </tr>\n",
       "    <tr>\n",
       "      <th>4</th>\n",
       "      <td>5.0</td>\n",
       "      <td>2023-02-20</td>\n",
       "      <td>1594.0</td>\n",
       "      <td>0.96926</td>\n",
       "      <td>5.895698</td>\n",
       "    </tr>\n",
       "  </tbody>\n",
       "</table>\n",
       "</div>"
      ],
      "text/plain": [
       "   gen_podr date_report  podr_target_count  podr_target_mean  podr_target_std\n",
       "0       5.0  2023-01-17                0.0               NaN              NaN\n",
       "1       5.0  2023-01-23                0.0               NaN              NaN\n",
       "2       5.0  2023-02-06                0.0               NaN              NaN\n",
       "3       5.0  2023-02-13                0.0               NaN              NaN\n",
       "4       5.0  2023-02-20             1594.0           0.96926         5.895698"
      ]
     },
     "metadata": {},
     "output_type": "display_data"
    },
    {
     "name": "stdout",
     "output_type": "stream",
     "text": [
      "<class 'pandas.core.frame.DataFrame'>\n",
      "Index: 323 entries, 0 to 322\n",
      "Data columns (total 5 columns):\n",
      " #   Column             Non-Null Count  Dtype         \n",
      "---  ------             --------------  -----         \n",
      " 0   gen_podr           323 non-null    float64       \n",
      " 1   date_report        323 non-null    datetime64[ns]\n",
      " 2   podr_target_count  323 non-null    float64       \n",
      " 3   podr_target_mean   218 non-null    float64       \n",
      " 4   podr_target_std    218 non-null    float64       \n",
      "dtypes: datetime64[ns](1), float64(4)\n",
      "memory usage: 15.1 KB\n"
     ]
    },
    {
     "data": {
      "text/plain": [
       "None"
      ]
     },
     "metadata": {},
     "output_type": "display_data"
    }
   ],
   "source": [
    "gen_podr_info = pd.DataFrame(\n",
    "    columns=[\n",
    "        'gen_podr',\n",
    "        'date_report',\n",
    "        'podr_target_count',\n",
    "        'podr_target_mean',\n",
    "        'podr_target_std'\n",
    "    ]\n",
    ")\n",
    "gen_podr_info = preproc(df_ksg_new, gen_podr_info)\n",
    "display(gen_podr_info.head())\n",
    "display(gen_podr_info.info())"
   ]
  },
  {
   "attachments": {},
   "cell_type": "markdown",
   "metadata": {},
   "source": [
    "### obj_prg"
   ]
  },
  {
   "cell_type": "code",
   "execution_count": 31,
   "metadata": {},
   "outputs": [
    {
     "name": "stdout",
     "output_type": "stream",
     "text": [
      "obj_prg\n"
     ]
    },
    {
     "data": {
      "text/html": [
       "<div>\n",
       "<style scoped>\n",
       "    .dataframe tbody tr th:only-of-type {\n",
       "        vertical-align: middle;\n",
       "    }\n",
       "\n",
       "    .dataframe tbody tr th {\n",
       "        vertical-align: top;\n",
       "    }\n",
       "\n",
       "    .dataframe thead th {\n",
       "        text-align: right;\n",
       "    }\n",
       "</style>\n",
       "<table border=\"1\" class=\"dataframe\">\n",
       "  <thead>\n",
       "    <tr style=\"text-align: right;\">\n",
       "      <th></th>\n",
       "      <th>obj_prg</th>\n",
       "      <th>date_report</th>\n",
       "      <th>obj_prg_target_count</th>\n",
       "      <th>obj_prg_target_mean</th>\n",
       "      <th>obj_prg_target_std</th>\n",
       "    </tr>\n",
       "  </thead>\n",
       "  <tbody>\n",
       "    <tr>\n",
       "      <th>0</th>\n",
       "      <td>Образование</td>\n",
       "      <td>2023-01-17</td>\n",
       "      <td>0.0</td>\n",
       "      <td>NaN</td>\n",
       "      <td>NaN</td>\n",
       "    </tr>\n",
       "    <tr>\n",
       "      <th>1</th>\n",
       "      <td>Образование</td>\n",
       "      <td>2023-01-23</td>\n",
       "      <td>22327.0</td>\n",
       "      <td>1.414924</td>\n",
       "      <td>7.977124</td>\n",
       "    </tr>\n",
       "    <tr>\n",
       "      <th>2</th>\n",
       "      <td>Образование</td>\n",
       "      <td>2023-02-06</td>\n",
       "      <td>44103.0</td>\n",
       "      <td>1.636102</td>\n",
       "      <td>8.383701</td>\n",
       "    </tr>\n",
       "    <tr>\n",
       "      <th>3</th>\n",
       "      <td>Образование</td>\n",
       "      <td>2023-02-13</td>\n",
       "      <td>67638.0</td>\n",
       "      <td>1.365283</td>\n",
       "      <td>7.371925</td>\n",
       "    </tr>\n",
       "    <tr>\n",
       "      <th>4</th>\n",
       "      <td>Образование</td>\n",
       "      <td>2023-02-20</td>\n",
       "      <td>93030.0</td>\n",
       "      <td>1.656380</td>\n",
       "      <td>8.812978</td>\n",
       "    </tr>\n",
       "  </tbody>\n",
       "</table>\n",
       "</div>"
      ],
      "text/plain": [
       "       obj_prg date_report  obj_prg_target_count  obj_prg_target_mean   \n",
       "0  Образование  2023-01-17                   0.0                  NaN  \\\n",
       "1  Образование  2023-01-23               22327.0             1.414924   \n",
       "2  Образование  2023-02-06               44103.0             1.636102   \n",
       "3  Образование  2023-02-13               67638.0             1.365283   \n",
       "4  Образование  2023-02-20               93030.0             1.656380   \n",
       "\n",
       "   obj_prg_target_std  \n",
       "0                 NaN  \n",
       "1            7.977124  \n",
       "2            8.383701  \n",
       "3            7.371925  \n",
       "4            8.812978  "
      ]
     },
     "metadata": {},
     "output_type": "display_data"
    },
    {
     "name": "stdout",
     "output_type": "stream",
     "text": [
      "<class 'pandas.core.frame.DataFrame'>\n",
      "Index: 38 entries, 0 to 37\n",
      "Data columns (total 5 columns):\n",
      " #   Column                Non-Null Count  Dtype         \n",
      "---  ------                --------------  -----         \n",
      " 0   obj_prg               38 non-null     object        \n",
      " 1   date_report           38 non-null     datetime64[ns]\n",
      " 2   obj_prg_target_count  38 non-null     float64       \n",
      " 3   obj_prg_target_mean   36 non-null     float64       \n",
      " 4   obj_prg_target_std    36 non-null     float64       \n",
      "dtypes: datetime64[ns](1), float64(3), object(1)\n",
      "memory usage: 1.8+ KB\n"
     ]
    },
    {
     "data": {
      "text/plain": [
       "None"
      ]
     },
     "metadata": {},
     "output_type": "display_data"
    }
   ],
   "source": [
    "gen_obj_prg_info = pd.DataFrame(\n",
    "    columns=[\n",
    "        'obj_prg',\n",
    "        'date_report',\n",
    "        'obj_prg_target_count',\n",
    "        'obj_prg_target_mean',\n",
    "        'obj_prg_target_std'\n",
    "    ]\n",
    ")\n",
    "\n",
    "gen_obj_prg_info = preproc(df_ksg_new, gen_obj_prg_info)\n",
    "display(gen_obj_prg_info.head())\n",
    "display(gen_obj_prg_info.info())"
   ]
  },
  {
   "attachments": {},
   "cell_type": "markdown",
   "metadata": {},
   "source": [
    "### obj_sub_prg"
   ]
  },
  {
   "cell_type": "code",
   "execution_count": 32,
   "metadata": {},
   "outputs": [
    {
     "name": "stdout",
     "output_type": "stream",
     "text": [
      "obj_subprg\n"
     ]
    },
    {
     "data": {
      "text/html": [
       "<div>\n",
       "<style scoped>\n",
       "    .dataframe tbody tr th:only-of-type {\n",
       "        vertical-align: middle;\n",
       "    }\n",
       "\n",
       "    .dataframe tbody tr th {\n",
       "        vertical-align: top;\n",
       "    }\n",
       "\n",
       "    .dataframe thead th {\n",
       "        text-align: right;\n",
       "    }\n",
       "</style>\n",
       "<table border=\"1\" class=\"dataframe\">\n",
       "  <thead>\n",
       "    <tr style=\"text-align: right;\">\n",
       "      <th></th>\n",
       "      <th>obj_subprg</th>\n",
       "      <th>date_report</th>\n",
       "      <th>sub_prg_target_count</th>\n",
       "      <th>sub_prg_target_mean</th>\n",
       "      <th>sub_prg_target_std</th>\n",
       "    </tr>\n",
       "  </thead>\n",
       "  <tbody>\n",
       "    <tr>\n",
       "      <th>0</th>\n",
       "      <td>Дошкольные учреждения</td>\n",
       "      <td>2023-01-17</td>\n",
       "      <td>0.0</td>\n",
       "      <td>NaN</td>\n",
       "      <td>NaN</td>\n",
       "    </tr>\n",
       "    <tr>\n",
       "      <th>1</th>\n",
       "      <td>Дошкольные учреждения</td>\n",
       "      <td>2023-01-23</td>\n",
       "      <td>7709.0</td>\n",
       "      <td>1.407965</td>\n",
       "      <td>9.828920</td>\n",
       "    </tr>\n",
       "    <tr>\n",
       "      <th>2</th>\n",
       "      <td>Дошкольные учреждения</td>\n",
       "      <td>2023-02-06</td>\n",
       "      <td>15239.0</td>\n",
       "      <td>1.602599</td>\n",
       "      <td>9.238705</td>\n",
       "    </tr>\n",
       "    <tr>\n",
       "      <th>3</th>\n",
       "      <td>Дошкольные учреждения</td>\n",
       "      <td>2023-02-13</td>\n",
       "      <td>23421.0</td>\n",
       "      <td>1.302549</td>\n",
       "      <td>8.065742</td>\n",
       "    </tr>\n",
       "    <tr>\n",
       "      <th>4</th>\n",
       "      <td>Дошкольные учреждения</td>\n",
       "      <td>2023-02-20</td>\n",
       "      <td>31738.0</td>\n",
       "      <td>1.089609</td>\n",
       "      <td>7.311637</td>\n",
       "    </tr>\n",
       "  </tbody>\n",
       "</table>\n",
       "</div>"
      ],
      "text/plain": [
       "              obj_subprg date_report  sub_prg_target_count   \n",
       "0  Дошкольные учреждения  2023-01-17                   0.0  \\\n",
       "1  Дошкольные учреждения  2023-01-23                7709.0   \n",
       "2  Дошкольные учреждения  2023-02-06               15239.0   \n",
       "3  Дошкольные учреждения  2023-02-13               23421.0   \n",
       "4  Дошкольные учреждения  2023-02-20               31738.0   \n",
       "\n",
       "   sub_prg_target_mean  sub_prg_target_std  \n",
       "0                  NaN                 NaN  \n",
       "1             1.407965            9.828920  \n",
       "2             1.602599            9.238705  \n",
       "3             1.302549            8.065742  \n",
       "4             1.089609            7.311637  "
      ]
     },
     "metadata": {},
     "output_type": "display_data"
    },
    {
     "name": "stdout",
     "output_type": "stream",
     "text": [
      "<class 'pandas.core.frame.DataFrame'>\n",
      "Index: 76 entries, 0 to 75\n",
      "Data columns (total 5 columns):\n",
      " #   Column                Non-Null Count  Dtype         \n",
      "---  ------                --------------  -----         \n",
      " 0   obj_subprg            76 non-null     object        \n",
      " 1   date_report           76 non-null     datetime64[ns]\n",
      " 2   sub_prg_target_count  76 non-null     float64       \n",
      " 3   sub_prg_target_mean   72 non-null     float64       \n",
      " 4   sub_prg_target_std    72 non-null     float64       \n",
      "dtypes: datetime64[ns](1), float64(3), object(1)\n",
      "memory usage: 3.6+ KB\n"
     ]
    },
    {
     "data": {
      "text/plain": [
       "None"
      ]
     },
     "metadata": {},
     "output_type": "display_data"
    }
   ],
   "source": [
    "sub_prg_info = pd.DataFrame(\n",
    "    columns=[\n",
    "        'obj_subprg',\n",
    "        'date_report',\n",
    "        'sub_prg_target_count',\n",
    "        'sub_prg_target_mean',\n",
    "        'sub_prg_target_std'\n",
    "    ]\n",
    ")\n",
    "\n",
    "sub_prg_info = preproc(df_ksg_new, sub_prg_info)\n",
    "display(sub_prg_info.head())\n",
    "display(sub_prg_info.info())"
   ]
  },
  {
   "attachments": {},
   "cell_type": "markdown",
   "metadata": {},
   "source": [
    "### examination_status"
   ]
  },
  {
   "cell_type": "code",
   "execution_count": 33,
   "metadata": {},
   "outputs": [
    {
     "name": "stdout",
     "output_type": "stream",
     "text": [
      "examination_status\n"
     ]
    },
    {
     "data": {
      "text/html": [
       "<div>\n",
       "<style scoped>\n",
       "    .dataframe tbody tr th:only-of-type {\n",
       "        vertical-align: middle;\n",
       "    }\n",
       "\n",
       "    .dataframe tbody tr th {\n",
       "        vertical-align: top;\n",
       "    }\n",
       "\n",
       "    .dataframe thead th {\n",
       "        text-align: right;\n",
       "    }\n",
       "</style>\n",
       "<table border=\"1\" class=\"dataframe\">\n",
       "  <thead>\n",
       "    <tr style=\"text-align: right;\">\n",
       "      <th></th>\n",
       "      <th>examination_status</th>\n",
       "      <th>date_report</th>\n",
       "      <th>exam_stat_target_count</th>\n",
       "      <th>exam_stat_target_mean</th>\n",
       "      <th>exam_stat_target_std</th>\n",
       "    </tr>\n",
       "  </thead>\n",
       "  <tbody>\n",
       "    <tr>\n",
       "      <th>0</th>\n",
       "      <td>0.0</td>\n",
       "      <td>2023-01-17</td>\n",
       "      <td>0.0</td>\n",
       "      <td>NaN</td>\n",
       "      <td>NaN</td>\n",
       "    </tr>\n",
       "    <tr>\n",
       "      <th>1</th>\n",
       "      <td>0.0</td>\n",
       "      <td>2023-01-23</td>\n",
       "      <td>37851.0</td>\n",
       "      <td>1.013791</td>\n",
       "      <td>6.900039</td>\n",
       "    </tr>\n",
       "    <tr>\n",
       "      <th>2</th>\n",
       "      <td>0.0</td>\n",
       "      <td>2023-02-06</td>\n",
       "      <td>74801.0</td>\n",
       "      <td>1.406679</td>\n",
       "      <td>7.842910</td>\n",
       "    </tr>\n",
       "    <tr>\n",
       "      <th>3</th>\n",
       "      <td>0.0</td>\n",
       "      <td>2023-02-13</td>\n",
       "      <td>113509.0</td>\n",
       "      <td>1.159327</td>\n",
       "      <td>6.863046</td>\n",
       "    </tr>\n",
       "    <tr>\n",
       "      <th>4</th>\n",
       "      <td>0.0</td>\n",
       "      <td>2023-02-20</td>\n",
       "      <td>154660.0</td>\n",
       "      <td>1.309647</td>\n",
       "      <td>7.722418</td>\n",
       "    </tr>\n",
       "  </tbody>\n",
       "</table>\n",
       "</div>"
      ],
      "text/plain": [
       "   examination_status date_report  exam_stat_target_count   \n",
       "0                 0.0  2023-01-17                     0.0  \\\n",
       "1                 0.0  2023-01-23                 37851.0   \n",
       "2                 0.0  2023-02-06                 74801.0   \n",
       "3                 0.0  2023-02-13                113509.0   \n",
       "4                 0.0  2023-02-20                154660.0   \n",
       "\n",
       "   exam_stat_target_mean  exam_stat_target_std  \n",
       "0                    NaN                   NaN  \n",
       "1               1.013791              6.900039  \n",
       "2               1.406679              7.842910  \n",
       "3               1.159327              6.863046  \n",
       "4               1.309647              7.722418  "
      ]
     },
     "metadata": {},
     "output_type": "display_data"
    },
    {
     "name": "stdout",
     "output_type": "stream",
     "text": [
      "<class 'pandas.core.frame.DataFrame'>\n",
      "Index: 57 entries, 0 to 56\n",
      "Data columns (total 5 columns):\n",
      " #   Column                  Non-Null Count  Dtype         \n",
      "---  ------                  --------------  -----         \n",
      " 0   examination_status      57 non-null     float64       \n",
      " 1   date_report             57 non-null     datetime64[ns]\n",
      " 2   exam_stat_target_count  57 non-null     float64       \n",
      " 3   exam_stat_target_mean   54 non-null     float64       \n",
      " 4   exam_stat_target_std    54 non-null     float64       \n",
      "dtypes: datetime64[ns](1), float64(4)\n",
      "memory usage: 2.7 KB\n"
     ]
    },
    {
     "data": {
      "text/plain": [
       "None"
      ]
     },
     "metadata": {},
     "output_type": "display_data"
    }
   ],
   "source": [
    "exam_stat_info = pd.DataFrame(\n",
    "    columns=[\n",
    "        'examination_status',\n",
    "        'date_report',\n",
    "        'exam_stat_target_count',\n",
    "        'exam_stat_target_mean',\n",
    "        'exam_stat_target_std'\n",
    "    ]\n",
    ")\n",
    "\n",
    "exam_stat_info = preproc(df_ksg_new, exam_stat_info)\n",
    "display(exam_stat_info.head())\n",
    "display(exam_stat_info.info())"
   ]
  },
  {
   "attachments": {},
   "cell_type": "markdown",
   "metadata": {},
   "source": [
    "## status"
   ]
  },
  {
   "cell_type": "code",
   "execution_count": 34,
   "metadata": {},
   "outputs": [
    {
     "name": "stdout",
     "output_type": "stream",
     "text": [
      "examination\n"
     ]
    },
    {
     "data": {
      "text/html": [
       "<div>\n",
       "<style scoped>\n",
       "    .dataframe tbody tr th:only-of-type {\n",
       "        vertical-align: middle;\n",
       "    }\n",
       "\n",
       "    .dataframe tbody tr th {\n",
       "        vertical-align: top;\n",
       "    }\n",
       "\n",
       "    .dataframe thead th {\n",
       "        text-align: right;\n",
       "    }\n",
       "</style>\n",
       "<table border=\"1\" class=\"dataframe\">\n",
       "  <thead>\n",
       "    <tr style=\"text-align: right;\">\n",
       "      <th></th>\n",
       "      <th>examination</th>\n",
       "      <th>date_report</th>\n",
       "      <th>ex_target_count</th>\n",
       "      <th>ex_target_mean</th>\n",
       "      <th>ex_target_std</th>\n",
       "    </tr>\n",
       "  </thead>\n",
       "  <tbody>\n",
       "    <tr>\n",
       "      <th>0</th>\n",
       "      <td>0</td>\n",
       "      <td>2023-01-17</td>\n",
       "      <td>0.0</td>\n",
       "      <td>NaN</td>\n",
       "      <td>NaN</td>\n",
       "    </tr>\n",
       "    <tr>\n",
       "      <th>1</th>\n",
       "      <td>0</td>\n",
       "      <td>2023-01-23</td>\n",
       "      <td>38171.0</td>\n",
       "      <td>1.012444</td>\n",
       "      <td>6.876665</td>\n",
       "    </tr>\n",
       "    <tr>\n",
       "      <th>2</th>\n",
       "      <td>0</td>\n",
       "      <td>2023-02-06</td>\n",
       "      <td>75443.0</td>\n",
       "      <td>1.405352</td>\n",
       "      <td>7.826233</td>\n",
       "    </tr>\n",
       "    <tr>\n",
       "      <th>3</th>\n",
       "      <td>0</td>\n",
       "      <td>2023-02-13</td>\n",
       "      <td>114479.0</td>\n",
       "      <td>1.159060</td>\n",
       "      <td>6.849460</td>\n",
       "    </tr>\n",
       "    <tr>\n",
       "      <th>4</th>\n",
       "      <td>0</td>\n",
       "      <td>2023-02-20</td>\n",
       "      <td>155977.0</td>\n",
       "      <td>1.311046</td>\n",
       "      <td>7.719643</td>\n",
       "    </tr>\n",
       "  </tbody>\n",
       "</table>\n",
       "</div>"
      ],
      "text/plain": [
       "  examination date_report  ex_target_count  ex_target_mean  ex_target_std\n",
       "0           0  2023-01-17              0.0             NaN            NaN\n",
       "1           0  2023-01-23          38171.0        1.012444       6.876665\n",
       "2           0  2023-02-06          75443.0        1.405352       7.826233\n",
       "3           0  2023-02-13         114479.0        1.159060       6.849460\n",
       "4           0  2023-02-20         155977.0        1.311046       7.719643"
      ]
     },
     "metadata": {},
     "output_type": "display_data"
    },
    {
     "name": "stdout",
     "output_type": "stream",
     "text": [
      "<class 'pandas.core.frame.DataFrame'>\n",
      "Index: 133 entries, 0 to 132\n",
      "Data columns (total 5 columns):\n",
      " #   Column           Non-Null Count  Dtype         \n",
      "---  ------           --------------  -----         \n",
      " 0   examination      133 non-null    object        \n",
      " 1   date_report      133 non-null    datetime64[ns]\n",
      " 2   ex_target_count  133 non-null    float64       \n",
      " 3   ex_target_mean   122 non-null    float64       \n",
      " 4   ex_target_std    121 non-null    float64       \n",
      "dtypes: datetime64[ns](1), float64(3), object(1)\n",
      "memory usage: 6.2+ KB\n"
     ]
    },
    {
     "data": {
      "text/plain": [
       "None"
      ]
     },
     "metadata": {},
     "output_type": "display_data"
    }
   ],
   "source": [
    "ex_info = pd.DataFrame(\n",
    "    columns=[\n",
    "        'examination',\n",
    "        'date_report',\n",
    "        'ex_target_count',\n",
    "        'ex_target_mean',\n",
    "        'ex_target_std'\n",
    "    ]\n",
    ")\n",
    "\n",
    "ex_info = preproc(df_ksg_new, ex_info)\n",
    "display(ex_info.head())\n",
    "display(ex_info.info())"
   ]
  },
  {
   "cell_type": "code",
   "execution_count": 35,
   "metadata": {},
   "outputs": [
    {
     "name": "stdout",
     "output_type": "stream",
     "text": [
      "<class 'pandas.core.frame.DataFrame'>\n",
      "RangeIndex: 772916 entries, 0 to 772915\n",
      "Data columns (total 32 columns):\n",
      " #   Column                     Non-Null Count   Dtype         \n",
      "---  ------                     --------------   -----         \n",
      " 0   obj_prg                    772916 non-null  object        \n",
      " 1   obj_subprg                 772916 non-null  object        \n",
      " 2   obj_key                    772916 non-null  object        \n",
      " 3   task_key                   772916 non-null  object        \n",
      " 4   task_name                  772916 non-null  object        \n",
      " 5   completion_percentage      772916 non-null  float64       \n",
      " 6   date_start_task            772916 non-null  datetime64[ns]\n",
      " 7   date_end_task              772916 non-null  datetime64[ns]\n",
      " 8   date_start_bpo             630246 non-null  datetime64[ns]\n",
      " 9   date_end_bpo               630807 non-null  datetime64[ns]\n",
      " 10  examination_status         772916 non-null  float64       \n",
      " 11  examination                772916 non-null  object        \n",
      " 12  date_report                772916 non-null  datetime64[ns]\n",
      " 13  target                     772916 non-null  int32         \n",
      " 14  date_start_task_month      772916 non-null  int32         \n",
      " 15  date_start_task_season     772916 non-null  int32         \n",
      " 16  date_end_task_month        772916 non-null  int32         \n",
      " 17  date_end_task_season       772916 non-null  int32         \n",
      " 18  date_start_bpo_month       630246 non-null  float64       \n",
      " 19  date_start_bpo_season      630246 non-null  float64       \n",
      " 20  date_end_bpo_month         630807 non-null  float64       \n",
      " 21  date_end_bpo_season        630807 non-null  float64       \n",
      " 22  date_report_month          772916 non-null  int32         \n",
      " 23  date_report_season         772916 non-null  int32         \n",
      " 24  diff_end_task_end_bpo      630807 non-null  float64       \n",
      " 25  diff_end_bpo_start_bpo     630246 non-null  float64       \n",
      " 26  diff_start_task_start_bpo  630246 non-null  float64       \n",
      " 27  square_status              270359 non-null  object        \n",
      " 28  square                     270149 non-null  float64       \n",
      " 29  gen_proect                 270359 non-null  float64       \n",
      " 30  gen_podr                   270359 non-null  float64       \n",
      " 31  n_workers                  160567 non-null  float64       \n",
      "dtypes: datetime64[ns](5), float64(13), int32(7), object(7)\n",
      "memory usage: 168.1+ MB\n"
     ]
    }
   ],
   "source": [
    "df_ksg_new.info()"
   ]
  },
  {
   "cell_type": "code",
   "execution_count": 36,
   "metadata": {},
   "outputs": [
    {
     "data": {
      "text/plain": [
       "examination_status\n",
       "0.0    764850\n",
       "1.0      5027\n",
       "2.0      3039\n",
       "Name: count, dtype: int64"
      ]
     },
     "execution_count": 36,
     "metadata": {},
     "output_type": "execute_result"
    }
   ],
   "source": [
    "df_ksg_new['examination_status'].value_counts()"
   ]
  },
  {
   "cell_type": "code",
   "execution_count": 37,
   "metadata": {},
   "outputs": [
    {
     "data": {
      "text/plain": [
       "examination_status\n",
       "0.0    764850\n",
       "1.0      5027\n",
       "2.0      3039\n",
       "Name: count, dtype: int64"
      ]
     },
     "execution_count": 37,
     "metadata": {},
     "output_type": "execute_result"
    }
   ],
   "source": [
    "df_ksg_new['examination_status'].value_counts()"
   ]
  },
  {
   "cell_type": "code",
   "execution_count": 38,
   "metadata": {},
   "outputs": [],
   "source": [
    "del df_ksg"
   ]
  },
  {
   "cell_type": "code",
   "execution_count": 39,
   "metadata": {},
   "outputs": [],
   "source": [
    "df_ksg_new = df_ksg_new.merge(exam_stat_info, on=['examination_status', 'date_report'], how='left')\n",
    "df_ksg_new = df_ksg_new.merge(sub_prg_info, on=['obj_subprg', 'date_report'], how='left')\n",
    "df_ksg_new = df_ksg_new.merge(gen_obj_prg_info, on=['obj_prg', 'date_report'], how='left')\n",
    "df_ksg_new = df_ksg_new.merge(gen_podr_info, on=['gen_podr', 'date_report'], how='left')\n",
    "df_ksg_new = df_ksg_new.merge(ex_info, on=['examination', 'date_report'], how='left')\n",
    "df_ksg_new = df_ksg_new.merge(gen_target_info, on=['date_report'], how='left')"
   ]
  },
  {
   "cell_type": "code",
   "execution_count": 40,
   "metadata": {},
   "outputs": [
    {
     "data": {
      "text/html": [
       "<div>\n",
       "<style scoped>\n",
       "    .dataframe tbody tr th:only-of-type {\n",
       "        vertical-align: middle;\n",
       "    }\n",
       "\n",
       "    .dataframe tbody tr th {\n",
       "        vertical-align: top;\n",
       "    }\n",
       "\n",
       "    .dataframe thead th {\n",
       "        text-align: right;\n",
       "    }\n",
       "</style>\n",
       "<table border=\"1\" class=\"dataframe\">\n",
       "  <thead>\n",
       "    <tr style=\"text-align: right;\">\n",
       "      <th></th>\n",
       "      <th>obj_prg</th>\n",
       "      <th>obj_subprg</th>\n",
       "      <th>obj_key</th>\n",
       "      <th>task_key</th>\n",
       "      <th>task_name</th>\n",
       "      <th>completion_percentage</th>\n",
       "      <th>date_start_task</th>\n",
       "      <th>date_end_task</th>\n",
       "      <th>date_start_bpo</th>\n",
       "      <th>date_end_bpo</th>\n",
       "      <th>...</th>\n",
       "      <th>obj_prg_target_std</th>\n",
       "      <th>podr_target_count</th>\n",
       "      <th>podr_target_mean</th>\n",
       "      <th>podr_target_std</th>\n",
       "      <th>ex_target_count</th>\n",
       "      <th>ex_target_mean</th>\n",
       "      <th>ex_target_std</th>\n",
       "      <th>gen_target_count</th>\n",
       "      <th>gen_target_mean</th>\n",
       "      <th>gen_target_std</th>\n",
       "    </tr>\n",
       "  </thead>\n",
       "  <tbody>\n",
       "    <tr>\n",
       "      <th>0</th>\n",
       "      <td>Образование</td>\n",
       "      <td>Дошкольные учреждения</td>\n",
       "      <td>017-0520</td>\n",
       "      <td>1</td>\n",
       "      <td>1_предпроектные работы</td>\n",
       "      <td>100.0</td>\n",
       "      <td>2018-11-01</td>\n",
       "      <td>2022-02-15</td>\n",
       "      <td>2018-11-01</td>\n",
       "      <td>2022-02-15</td>\n",
       "      <td>...</td>\n",
       "      <td>NaN</td>\n",
       "      <td>NaN</td>\n",
       "      <td>NaN</td>\n",
       "      <td>NaN</td>\n",
       "      <td>0.0</td>\n",
       "      <td>NaN</td>\n",
       "      <td>NaN</td>\n",
       "      <td>0.0</td>\n",
       "      <td>NaN</td>\n",
       "      <td>NaN</td>\n",
       "    </tr>\n",
       "    <tr>\n",
       "      <th>1</th>\n",
       "      <td>Образование</td>\n",
       "      <td>Дошкольные учреждения</td>\n",
       "      <td>017-0520</td>\n",
       "      <td>1</td>\n",
       "      <td>1_предпроектные работы</td>\n",
       "      <td>100.0</td>\n",
       "      <td>2018-11-01</td>\n",
       "      <td>2022-02-15</td>\n",
       "      <td>2018-11-01</td>\n",
       "      <td>2022-02-15</td>\n",
       "      <td>...</td>\n",
       "      <td>7.977124</td>\n",
       "      <td>NaN</td>\n",
       "      <td>NaN</td>\n",
       "      <td>NaN</td>\n",
       "      <td>38171.0</td>\n",
       "      <td>1.012444</td>\n",
       "      <td>6.876665</td>\n",
       "      <td>38261.0</td>\n",
       "      <td>1.013173</td>\n",
       "      <td>6.872876</td>\n",
       "    </tr>\n",
       "    <tr>\n",
       "      <th>2</th>\n",
       "      <td>Образование</td>\n",
       "      <td>Дошкольные учреждения</td>\n",
       "      <td>017-0520</td>\n",
       "      <td>1</td>\n",
       "      <td>1_предпроектные работы</td>\n",
       "      <td>100.0</td>\n",
       "      <td>2018-11-01</td>\n",
       "      <td>2022-02-15</td>\n",
       "      <td>2018-11-01</td>\n",
       "      <td>2022-02-15</td>\n",
       "      <td>...</td>\n",
       "      <td>8.383701</td>\n",
       "      <td>NaN</td>\n",
       "      <td>NaN</td>\n",
       "      <td>NaN</td>\n",
       "      <td>75443.0</td>\n",
       "      <td>1.405352</td>\n",
       "      <td>7.826233</td>\n",
       "      <td>75624.0</td>\n",
       "      <td>1.406471</td>\n",
       "      <td>7.823444</td>\n",
       "    </tr>\n",
       "    <tr>\n",
       "      <th>3</th>\n",
       "      <td>Образование</td>\n",
       "      <td>Дошкольные учреждения</td>\n",
       "      <td>017-0520</td>\n",
       "      <td>1</td>\n",
       "      <td>1_предпроектные работы</td>\n",
       "      <td>100.0</td>\n",
       "      <td>2018-11-01</td>\n",
       "      <td>2022-02-15</td>\n",
       "      <td>2018-11-01</td>\n",
       "      <td>2022-02-15</td>\n",
       "      <td>...</td>\n",
       "      <td>7.371925</td>\n",
       "      <td>NaN</td>\n",
       "      <td>NaN</td>\n",
       "      <td>NaN</td>\n",
       "      <td>114479.0</td>\n",
       "      <td>1.159060</td>\n",
       "      <td>6.849460</td>\n",
       "      <td>114753.0</td>\n",
       "      <td>1.159926</td>\n",
       "      <td>6.847040</td>\n",
       "    </tr>\n",
       "    <tr>\n",
       "      <th>4</th>\n",
       "      <td>Образование</td>\n",
       "      <td>Дошкольные учреждения</td>\n",
       "      <td>017-0520</td>\n",
       "      <td>1</td>\n",
       "      <td>1_предпроектные работы</td>\n",
       "      <td>100.0</td>\n",
       "      <td>2018-11-01</td>\n",
       "      <td>2022-02-15</td>\n",
       "      <td>2018-11-01</td>\n",
       "      <td>2022-02-15</td>\n",
       "      <td>...</td>\n",
       "      <td>8.812978</td>\n",
       "      <td>NaN</td>\n",
       "      <td>NaN</td>\n",
       "      <td>NaN</td>\n",
       "      <td>155977.0</td>\n",
       "      <td>1.311046</td>\n",
       "      <td>7.719643</td>\n",
       "      <td>156344.0</td>\n",
       "      <td>1.311070</td>\n",
       "      <td>7.715329</td>\n",
       "    </tr>\n",
       "  </tbody>\n",
       "</table>\n",
       "<p>5 rows × 50 columns</p>\n",
       "</div>"
      ],
      "text/plain": [
       "       obj_prg             obj_subprg   obj_key task_key   \n",
       "0  Образование  Дошкольные учреждения  017-0520        1  \\\n",
       "1  Образование  Дошкольные учреждения  017-0520        1   \n",
       "2  Образование  Дошкольные учреждения  017-0520        1   \n",
       "3  Образование  Дошкольные учреждения  017-0520        1   \n",
       "4  Образование  Дошкольные учреждения  017-0520        1   \n",
       "\n",
       "                task_name  completion_percentage date_start_task   \n",
       "0  1_предпроектные работы                  100.0      2018-11-01  \\\n",
       "1  1_предпроектные работы                  100.0      2018-11-01   \n",
       "2  1_предпроектные работы                  100.0      2018-11-01   \n",
       "3  1_предпроектные работы                  100.0      2018-11-01   \n",
       "4  1_предпроектные работы                  100.0      2018-11-01   \n",
       "\n",
       "  date_end_task date_start_bpo date_end_bpo  ...  obj_prg_target_std   \n",
       "0    2022-02-15     2018-11-01   2022-02-15  ...                 NaN  \\\n",
       "1    2022-02-15     2018-11-01   2022-02-15  ...            7.977124   \n",
       "2    2022-02-15     2018-11-01   2022-02-15  ...            8.383701   \n",
       "3    2022-02-15     2018-11-01   2022-02-15  ...            7.371925   \n",
       "4    2022-02-15     2018-11-01   2022-02-15  ...            8.812978   \n",
       "\n",
       "  podr_target_count podr_target_mean  podr_target_std  ex_target_count   \n",
       "0               NaN              NaN              NaN              0.0  \\\n",
       "1               NaN              NaN              NaN          38171.0   \n",
       "2               NaN              NaN              NaN          75443.0   \n",
       "3               NaN              NaN              NaN         114479.0   \n",
       "4               NaN              NaN              NaN         155977.0   \n",
       "\n",
       "   ex_target_mean  ex_target_std  gen_target_count  gen_target_mean   \n",
       "0             NaN            NaN               0.0              NaN  \\\n",
       "1        1.012444       6.876665           38261.0         1.013173   \n",
       "2        1.405352       7.826233           75624.0         1.406471   \n",
       "3        1.159060       6.849460          114753.0         1.159926   \n",
       "4        1.311046       7.719643          156344.0         1.311070   \n",
       "\n",
       "   gen_target_std  \n",
       "0             NaN  \n",
       "1        6.872876  \n",
       "2        7.823444  \n",
       "3        6.847040  \n",
       "4        7.715329  \n",
       "\n",
       "[5 rows x 50 columns]"
      ]
     },
     "execution_count": 40,
     "metadata": {},
     "output_type": "execute_result"
    }
   ],
   "source": [
    "df_ksg_new.head()"
   ]
  },
  {
   "cell_type": "code",
   "execution_count": 41,
   "metadata": {},
   "outputs": [
    {
     "name": "stdout",
     "output_type": "stream",
     "text": [
      "<class 'pandas.core.frame.DataFrame'>\n",
      "RangeIndex: 772916 entries, 0 to 772915\n",
      "Data columns (total 50 columns):\n",
      " #   Column                     Non-Null Count   Dtype         \n",
      "---  ------                     --------------   -----         \n",
      " 0   obj_prg                    772916 non-null  object        \n",
      " 1   obj_subprg                 772916 non-null  object        \n",
      " 2   obj_key                    772916 non-null  object        \n",
      " 3   task_key                   772916 non-null  object        \n",
      " 4   task_name                  772916 non-null  object        \n",
      " 5   completion_percentage      772916 non-null  float64       \n",
      " 6   date_start_task            772916 non-null  datetime64[ns]\n",
      " 7   date_end_task              772916 non-null  datetime64[ns]\n",
      " 8   date_start_bpo             630246 non-null  datetime64[ns]\n",
      " 9   date_end_bpo               630807 non-null  datetime64[ns]\n",
      " 10  examination_status         772916 non-null  float64       \n",
      " 11  examination                772916 non-null  object        \n",
      " 12  date_report                772916 non-null  datetime64[ns]\n",
      " 13  target                     772916 non-null  int32         \n",
      " 14  date_start_task_month      772916 non-null  int32         \n",
      " 15  date_start_task_season     772916 non-null  int32         \n",
      " 16  date_end_task_month        772916 non-null  int32         \n",
      " 17  date_end_task_season       772916 non-null  int32         \n",
      " 18  date_start_bpo_month       630246 non-null  float64       \n",
      " 19  date_start_bpo_season      630246 non-null  float64       \n",
      " 20  date_end_bpo_month         630807 non-null  float64       \n",
      " 21  date_end_bpo_season        630807 non-null  float64       \n",
      " 22  date_report_month          772916 non-null  int32         \n",
      " 23  date_report_season         772916 non-null  int32         \n",
      " 24  diff_end_task_end_bpo      630807 non-null  float64       \n",
      " 25  diff_end_bpo_start_bpo     630246 non-null  float64       \n",
      " 26  diff_start_task_start_bpo  630246 non-null  float64       \n",
      " 27  square_status              270359 non-null  object        \n",
      " 28  square                     270149 non-null  float64       \n",
      " 29  gen_proect                 270359 non-null  float64       \n",
      " 30  gen_podr                   270359 non-null  float64       \n",
      " 31  n_workers                  160567 non-null  float64       \n",
      " 32  exam_stat_target_count     772916 non-null  float64       \n",
      " 33  exam_stat_target_mean      734655 non-null  float64       \n",
      " 34  exam_stat_target_std       734655 non-null  float64       \n",
      " 35  sub_prg_target_count       772916 non-null  float64       \n",
      " 36  sub_prg_target_mean        734655 non-null  float64       \n",
      " 37  sub_prg_target_std         734655 non-null  float64       \n",
      " 38  obj_prg_target_count       772916 non-null  float64       \n",
      " 39  obj_prg_target_mean        734655 non-null  float64       \n",
      " 40  obj_prg_target_std         734655 non-null  float64       \n",
      " 41  podr_target_count          270359 non-null  float64       \n",
      " 42  podr_target_mean           250819 non-null  float64       \n",
      " 43  podr_target_std            250819 non-null  float64       \n",
      " 44  ex_target_count            772916 non-null  float64       \n",
      " 45  ex_target_mean             734654 non-null  float64       \n",
      " 46  ex_target_std              734653 non-null  float64       \n",
      " 47  gen_target_count           772916 non-null  float64       \n",
      " 48  gen_target_mean            734655 non-null  float64       \n",
      " 49  gen_target_std             734655 non-null  float64       \n",
      "dtypes: datetime64[ns](5), float64(31), int32(7), object(7)\n",
      "memory usage: 274.2+ MB\n"
     ]
    }
   ],
   "source": [
    "df_ksg_new.info()"
   ]
  },
  {
   "cell_type": "code",
   "execution_count": 42,
   "metadata": {},
   "outputs": [
    {
     "name": "stdout",
     "output_type": "stream",
     "text": [
      "1.8922534919706668\n"
     ]
    }
   ],
   "source": [
    "len(df_ksg_new['target'])\n",
    "pred = pd.Series(0, index=range(len(df_ksg_new['target'])))\n",
    "print(mean_absolute_error(df_ksg_new['target'], pred))"
   ]
  },
  {
   "cell_type": "code",
   "execution_count": null,
   "metadata": {},
   "outputs": [],
   "source": []
  },
  {
   "cell_type": "code",
   "execution_count": 43,
   "metadata": {},
   "outputs": [],
   "source": [
    "#df_ksg_new.drop(columns=['date_start_task', 'date_end_task', 'date_start_bpo', 'date_end_bpo', 'date_report'])\n",
    "df_ksg_new.to_csv('dataset.csv', index=False)"
   ]
  },
  {
   "cell_type": "markdown",
   "metadata": {},
   "source": [
    "## Создание выборки для классификатора"
   ]
  },
  {
   "cell_type": "code",
   "execution_count": null,
   "metadata": {},
   "outputs": [],
   "source": [
    "df_ksg_new.loc[df_ksg_new['target']!=0, 'target'] = 1\n",
    "df_ksg_new['target'].value_counts()\n",
    "\n",
    "df_ksg_new.to_csv('class_dataset.csv', index=False)"
   ]
  },
  {
   "cell_type": "code",
   "execution_count": 29,
   "metadata": {},
   "outputs": [],
   "source": [
    "#df_ksg_new['target_mean'] = df_ksg_new.groupby(['obj_key', 'task_name'])['target'].transform(lambda x: x.mean())"
   ]
  },
  {
   "cell_type": "code",
   "execution_count": 30,
   "metadata": {},
   "outputs": [],
   "source": [
    "#display(df_ksg_new[(df_ksg_new['obj_key']=='022-0631')].iloc[-1]['task_name'])"
   ]
  },
  {
   "cell_type": "code",
   "execution_count": 31,
   "metadata": {},
   "outputs": [],
   "source": [
    "#display(df_ksg_new[(df_ksg_new['obj_key']=='022-0631') & (df_ksg_new['task_name']=='9.6.2_оформлена акт приёмки завершенного строительства объекта')])"
   ]
  },
  {
   "cell_type": "code",
   "execution_count": 32,
   "metadata": {},
   "outputs": [
    {
     "data": {
      "text/plain": [
       "\"\\ndef prep(x):\\n    x = x.sort_values(by='date_report')\\n    dict_data = {f'target_{i}': target  for i, target in enumerate(x['target'])}\\n    # dict_data['obj_prg'] = x['obj_prg'].iloc[0]\\n    # dict_data['obj_subprg'] = x['obj_subprg'].iloc[0]\\n    # dict_data['obj_key'] = x['obj_key'].iloc[0]\\n    #print(len(dict_data))\\n    if len(dict_data) == 18:\\n        return dict_data\\n    elif len(dict_data) > 18:\\n        return {f'target_{i}': 12345  for i in range(18)}\\n    else:\\n        for i in range(18-len(dict_data)):\\n            dict_data[f'target_{len(dict_data)+i}'] = 12345\\n        return dict_data\\n\\n\\nresult = df_ksg_new[df_ksg_new['obj_key']=='019-0429'].groupby('task_name', as_index=False).apply(lambda x: pd.Series(\\n     prep(x)\\n))\\nresult.head()\\n\\n\\ndef preproc (x):\\n    dict_data = {f'Люди_{i}': target  for i, target in enumerate(x['Люди'])}\\n    dict_data['Город'] = x['Город'].iloc[0]\\n    return dict_data\\n\\n\\ndata = pd.DataFrame({\\n    'Страна': ['Россия', 'Россия','Не Россия','Не Россия'],\\n    'Город': ['Москва', 'Москва', 'Не Москва', 'Не Москва'],\\n    'Люди': [100, 200, 150, 250]\\n})\\ndisplay(data)\\n\\n\\nresult = data.groupby('Страна', as_index=False).apply(lambda x: pd.Series(\\n     preproc(x)\\n))\\nresult\\n\""
      ]
     },
     "execution_count": 32,
     "metadata": {},
     "output_type": "execute_result"
    }
   ],
   "source": [
    "'''\n",
    "def prep(x):\n",
    "    x = x.sort_values(by='date_report')\n",
    "    dict_data = {f'target_{i}': target  for i, target in enumerate(x['target'])}\n",
    "    # dict_data['obj_prg'] = x['obj_prg'].iloc[0]\n",
    "    # dict_data['obj_subprg'] = x['obj_subprg'].iloc[0]\n",
    "    # dict_data['obj_key'] = x['obj_key'].iloc[0]\n",
    "    #print(len(dict_data))\n",
    "    if len(dict_data) == 18:\n",
    "        return dict_data\n",
    "    elif len(dict_data) > 18:\n",
    "        return {f'target_{i}': 12345  for i in range(18)}\n",
    "    else:\n",
    "        for i in range(18-len(dict_data)):\n",
    "            dict_data[f'target_{len(dict_data)+i}'] = 12345\n",
    "        return dict_data\n",
    "\n",
    "\n",
    "result = df_ksg_new[df_ksg_new['obj_key']=='019-0429'].groupby('task_name', as_index=False).apply(lambda x: pd.Series(\n",
    "     prep(x)\n",
    "))\n",
    "result.head()\n",
    "\n",
    "\n",
    "def preproc (x):\n",
    "    dict_data = {f'Люди_{i}': target  for i, target in enumerate(x['Люди'])}\n",
    "    dict_data['Город'] = x['Город'].iloc[0]\n",
    "    return dict_data\n",
    "\n",
    "\n",
    "data = pd.DataFrame({\n",
    "    'Страна': ['Россия', 'Россия','Не Россия','Не Россия'],\n",
    "    'Город': ['Москва', 'Москва', 'Не Москва', 'Не Москва'],\n",
    "    'Люди': [100, 200, 150, 250]\n",
    "})\n",
    "display(data)\n",
    "\n",
    "\n",
    "result = data.groupby('Страна', as_index=False).apply(lambda x: pd.Series(\n",
    "     preproc(x)\n",
    "))\n",
    "result\n",
    "'''"
   ]
  },
  {
   "attachments": {},
   "cell_type": "markdown",
   "metadata": {},
   "source": [
    "## Привидение тестового датасета в нормальный вид"
   ]
  },
  {
   "cell_type": "code",
   "execution_count": 5,
   "metadata": {},
   "outputs": [
    {
     "name": "stdout",
     "output_type": "stream",
     "text": [
      "<class 'pandas.core.frame.DataFrame'>\n",
      "Index: 2 entries, 0 to 0\n",
      "Data columns (total 15 columns):\n",
      " #   Column                   Non-Null Count  Dtype         \n",
      "---  ------                   --------------  -----         \n",
      " 0   № п/п                    2 non-null      int64         \n",
      " 1   obj_prg                  2 non-null      object        \n",
      " 2   obj_subprg               2 non-null      object        \n",
      " 3   obj_key                  2 non-null      object        \n",
      " 4   obj_pwa_key              2 non-null      object        \n",
      " 5   obj_shortName            2 non-null      object        \n",
      " 6   Кодзадачи                2 non-null      object        \n",
      " 7   НазваниеЗадачи           2 non-null      object        \n",
      " 8   ПроцентЗавершенияЗадачи  2 non-null      int64         \n",
      " 9   ДатаНачалаЗадачи         2 non-null      datetime64[ns]\n",
      " 10  ДатаОкончанияЗадачи      2 non-null      datetime64[ns]\n",
      " 11  ДатаначалаБП0            2 non-null      datetime64[ns]\n",
      " 12  ДатаокончанияБП0         2 non-null      datetime64[ns]\n",
      " 13  Статуспоэкспертизе       0 non-null      float64       \n",
      " 14  Экспертиза               0 non-null      float64       \n",
      "dtypes: datetime64[ns](4), float64(2), int64(2), object(7)\n",
      "memory usage: 256.0+ bytes\n"
     ]
    }
   ],
   "source": [
    "data_test = pd.read_excel('train_dataset_Дипстрой//Пример_теста_2023.06.19.xlsx')\n",
    "'''data_test = data_test.drop(columns=['obj_pwa_key', '№ п/п', 'obj_shortName'])\n",
    "data_test = data_test.rename(\n",
    "    columns={\n",
    "        'Кодзадачи': 'task_key',\n",
    "        'НазваниеЗадачи': 'task_name',\n",
    "        'ПроцентЗавершенияЗадачи': 'completion_percentage',\n",
    "        'ДатаНачалаЗадачи': 'date_start_task',\n",
    "        'ДатаОкончанияЗадачи': 'date_end_task',\n",
    "        'ДатаначалаБП0': 'date_start_bpo',\n",
    "        'ДатаокончанияБП0': 'date_end_bpo',\n",
    "        'Статуспоэкспертизе': 'examination_status',\n",
    "        'Экспертиза': 'examination'\n",
    "    }\n",
    ")'''\n",
    "#data_test['date_report'] = np.datetime64('2023-06-19')\n",
    "data_test['Кодзадачи'] = data_test['Кодзадачи'].astype(str)\n",
    "\n",
    "data_test_2 = data_test.copy()\n",
    "data_test_2['Кодзадачи'] = '3.3'\n",
    "data_test_2['НазваниеЗадачи'] = 'Разработка и согласование АПР'\n",
    "\n",
    "data_test = pd.concat([data_test_2, data_test ])\n",
    "data_test.info()\n",
    "data_test.to_excel('train_dataset_Дипстрой//2023.06.19.xlsx', index=False)"
   ]
  },
  {
   "cell_type": "code",
   "execution_count": 4,
   "metadata": {},
   "outputs": [
    {
     "data": {
      "text/plain": [
       "'2023.06.19'"
      ]
     },
     "execution_count": 4,
     "metadata": {},
     "output_type": "execute_result"
    }
   ],
   "source": [
    "s = '2023.06.19.xlsx'\n",
    "s.replace('.xlsx', '')"
   ]
  },
  {
   "cell_type": "code",
   "execution_count": null,
   "metadata": {},
   "outputs": [],
   "source": []
  }
 ],
 "metadata": {
  "kernelspec": {
   "display_name": "Python 3",
   "language": "python",
   "name": "python3"
  },
  "language_info": {
   "codemirror_mode": {
    "name": "ipython",
    "version": 3
   },
   "file_extension": ".py",
   "mimetype": "text/x-python",
   "name": "python",
   "nbconvert_exporter": "python",
   "pygments_lexer": "ipython3",
   "version": "3.10.5"
  }
 },
 "nbformat": 4,
 "nbformat_minor": 0
}
